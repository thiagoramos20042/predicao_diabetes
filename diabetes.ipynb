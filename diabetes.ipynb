{
  "nbformat": 4,
  "nbformat_minor": 0,
  "metadata": {
    "colab": {
      "name": "diabetes.ipynb",
      "provenance": [],
      "collapsed_sections": [],
      "mount_file_id": "1EJow8TEnA_qDd9UeIVc-lpQ1rRFAeuu_",
      "authorship_tag": "ABX9TyNsQyVKKmpoowD2wzupeAVV",
      "include_colab_link": true
    },
    "kernelspec": {
      "name": "python3",
      "display_name": "Python 3"
    },
    "language_info": {
      "name": "python"
    }
  },
  "cells": [
    {
      "cell_type": "markdown",
      "metadata": {
        "id": "view-in-github",
        "colab_type": "text"
      },
      "source": [
        "<a href=\"https://colab.research.google.com/github/thiagoramos20042/predicao_diabetes/blob/main/diabetes.ipynb\" target=\"_parent\"><img src=\"https://colab.research.google.com/assets/colab-badge.svg\" alt=\"Open In Colab\"/></a>"
      ]
    },
    {
      "cell_type": "markdown",
      "metadata": {
        "id": "yD2fN31xbE2W"
      },
      "source": [
        "# Dicionários das features\n",
        "\n",
        "### Pregnancies == Grávida\n",
        "### Glucose == Nível de glicose no sangue\n",
        "### BloodPressure == Pressão arterial\n",
        "### SkinThickness == Espessura da pele\n",
        "### Insulin == Insulina\n",
        "### BMI == índice de massa corporal\n",
        "###DiabetesPedigreeFunction== Avalia a probabilidade de diabetes com base na familia. \n",
        "### Age == Idade\n",
        "### Outcome == Resultado da nossa variável target\n",
        "\n"
      ]
    },
    {
      "cell_type": "code",
      "metadata": {
        "id": "leUy1Bu0LIgY"
      },
      "source": [
        "import pandas as pd\n",
        "import numpy as np\n",
        "import matplotlib.pyplot as plt\n",
        "import seaborn as sns\n"
      ],
      "execution_count": null,
      "outputs": []
    },
    {
      "cell_type": "code",
      "metadata": {
        "id": "MKL8cbvnaY79"
      },
      "source": [
        "df=pd.read_csv(\"/content/drive/MyDrive/PI DATA SCIENCE/MÓDULO 4/DATASET/Diabetespred.csv\")\n"
      ],
      "execution_count": null,
      "outputs": []
    },
    {
      "cell_type": "code",
      "metadata": {
        "colab": {
          "base_uri": "https://localhost:8080/",
          "height": 419
        },
        "id": "wzq9eGG5aowc",
        "outputId": "7c924f95-becd-4b7d-818f-8e7fe0578d42"
      },
      "source": [
        "df"
      ],
      "execution_count": null,
      "outputs": [
        {
          "output_type": "execute_result",
          "data": {
            "text/html": [
              "<div>\n",
              "<style scoped>\n",
              "    .dataframe tbody tr th:only-of-type {\n",
              "        vertical-align: middle;\n",
              "    }\n",
              "\n",
              "    .dataframe tbody tr th {\n",
              "        vertical-align: top;\n",
              "    }\n",
              "\n",
              "    .dataframe thead th {\n",
              "        text-align: right;\n",
              "    }\n",
              "</style>\n",
              "<table border=\"1\" class=\"dataframe\">\n",
              "  <thead>\n",
              "    <tr style=\"text-align: right;\">\n",
              "      <th></th>\n",
              "      <th>Pregnancies</th>\n",
              "      <th>Glucose</th>\n",
              "      <th>BloodPressure</th>\n",
              "      <th>SkinThickness</th>\n",
              "      <th>Insulin</th>\n",
              "      <th>BMI</th>\n",
              "      <th>DiabetesPedigreeFunction</th>\n",
              "      <th>Age</th>\n",
              "      <th>Outcome</th>\n",
              "    </tr>\n",
              "  </thead>\n",
              "  <tbody>\n",
              "    <tr>\n",
              "      <th>0</th>\n",
              "      <td>6</td>\n",
              "      <td>148</td>\n",
              "      <td>72</td>\n",
              "      <td>35</td>\n",
              "      <td>0</td>\n",
              "      <td>33.6</td>\n",
              "      <td>0.627</td>\n",
              "      <td>50</td>\n",
              "      <td>1</td>\n",
              "    </tr>\n",
              "    <tr>\n",
              "      <th>1</th>\n",
              "      <td>1</td>\n",
              "      <td>85</td>\n",
              "      <td>66</td>\n",
              "      <td>29</td>\n",
              "      <td>0</td>\n",
              "      <td>26.6</td>\n",
              "      <td>0.351</td>\n",
              "      <td>31</td>\n",
              "      <td>0</td>\n",
              "    </tr>\n",
              "    <tr>\n",
              "      <th>2</th>\n",
              "      <td>8</td>\n",
              "      <td>183</td>\n",
              "      <td>64</td>\n",
              "      <td>0</td>\n",
              "      <td>0</td>\n",
              "      <td>23.3</td>\n",
              "      <td>0.672</td>\n",
              "      <td>32</td>\n",
              "      <td>1</td>\n",
              "    </tr>\n",
              "    <tr>\n",
              "      <th>3</th>\n",
              "      <td>1</td>\n",
              "      <td>89</td>\n",
              "      <td>66</td>\n",
              "      <td>23</td>\n",
              "      <td>94</td>\n",
              "      <td>28.1</td>\n",
              "      <td>0.167</td>\n",
              "      <td>21</td>\n",
              "      <td>0</td>\n",
              "    </tr>\n",
              "    <tr>\n",
              "      <th>4</th>\n",
              "      <td>0</td>\n",
              "      <td>137</td>\n",
              "      <td>40</td>\n",
              "      <td>35</td>\n",
              "      <td>168</td>\n",
              "      <td>43.1</td>\n",
              "      <td>2.288</td>\n",
              "      <td>33</td>\n",
              "      <td>1</td>\n",
              "    </tr>\n",
              "    <tr>\n",
              "      <th>...</th>\n",
              "      <td>...</td>\n",
              "      <td>...</td>\n",
              "      <td>...</td>\n",
              "      <td>...</td>\n",
              "      <td>...</td>\n",
              "      <td>...</td>\n",
              "      <td>...</td>\n",
              "      <td>...</td>\n",
              "      <td>...</td>\n",
              "    </tr>\n",
              "    <tr>\n",
              "      <th>494</th>\n",
              "      <td>3</td>\n",
              "      <td>80</td>\n",
              "      <td>0</td>\n",
              "      <td>0</td>\n",
              "      <td>0</td>\n",
              "      <td>0.0</td>\n",
              "      <td>0.174</td>\n",
              "      <td>22</td>\n",
              "      <td>0</td>\n",
              "    </tr>\n",
              "    <tr>\n",
              "      <th>495</th>\n",
              "      <td>6</td>\n",
              "      <td>166</td>\n",
              "      <td>74</td>\n",
              "      <td>0</td>\n",
              "      <td>0</td>\n",
              "      <td>26.6</td>\n",
              "      <td>0.304</td>\n",
              "      <td>66</td>\n",
              "      <td>0</td>\n",
              "    </tr>\n",
              "    <tr>\n",
              "      <th>496</th>\n",
              "      <td>5</td>\n",
              "      <td>110</td>\n",
              "      <td>68</td>\n",
              "      <td>0</td>\n",
              "      <td>0</td>\n",
              "      <td>26.0</td>\n",
              "      <td>0.292</td>\n",
              "      <td>30</td>\n",
              "      <td>0</td>\n",
              "    </tr>\n",
              "    <tr>\n",
              "      <th>497</th>\n",
              "      <td>2</td>\n",
              "      <td>81</td>\n",
              "      <td>72</td>\n",
              "      <td>15</td>\n",
              "      <td>76</td>\n",
              "      <td>30.1</td>\n",
              "      <td>0.547</td>\n",
              "      <td>25</td>\n",
              "      <td>0</td>\n",
              "    </tr>\n",
              "    <tr>\n",
              "      <th>498</th>\n",
              "      <td>7</td>\n",
              "      <td>195</td>\n",
              "      <td>70</td>\n",
              "      <td>33</td>\n",
              "      <td>145</td>\n",
              "      <td>25.1</td>\n",
              "      <td>0.163</td>\n",
              "      <td>55</td>\n",
              "      <td>1</td>\n",
              "    </tr>\n",
              "  </tbody>\n",
              "</table>\n",
              "<p>499 rows × 9 columns</p>\n",
              "</div>"
            ],
            "text/plain": [
              "     Pregnancies  Glucose  ...  Age  Outcome\n",
              "0              6      148  ...   50        1\n",
              "1              1       85  ...   31        0\n",
              "2              8      183  ...   32        1\n",
              "3              1       89  ...   21        0\n",
              "4              0      137  ...   33        1\n",
              "..           ...      ...  ...  ...      ...\n",
              "494            3       80  ...   22        0\n",
              "495            6      166  ...   66        0\n",
              "496            5      110  ...   30        0\n",
              "497            2       81  ...   25        0\n",
              "498            7      195  ...   55        1\n",
              "\n",
              "[499 rows x 9 columns]"
            ]
          },
          "metadata": {},
          "execution_count": 88
        }
      ]
    },
    {
      "cell_type": "code",
      "metadata": {
        "id": "_c3aEr8Bjzby"
      },
      "source": [
        "# Excluindo os zeros de todas as colunas, menos a do target\n",
        "\n",
        "novo_df = df[(df[['Pregnancies', 'Glucose', 'BloodPressure', 'SkinThickness', 'Insulin',\n",
        "       'BMI', 'DiabetesPedigreeFunction', 'Age',]] != 0).all(axis=1)]\n"
      ],
      "execution_count": null,
      "outputs": []
    },
    {
      "cell_type": "code",
      "metadata": {
        "colab": {
          "base_uri": "https://localhost:8080/",
          "height": 419
        },
        "id": "t1JpJAh8j62M",
        "outputId": "473b71e7-83af-4397-c347-2145d6a0c18d"
      },
      "source": [
        "novo_df"
      ],
      "execution_count": null,
      "outputs": [
        {
          "output_type": "execute_result",
          "data": {
            "text/html": [
              "<div>\n",
              "<style scoped>\n",
              "    .dataframe tbody tr th:only-of-type {\n",
              "        vertical-align: middle;\n",
              "    }\n",
              "\n",
              "    .dataframe tbody tr th {\n",
              "        vertical-align: top;\n",
              "    }\n",
              "\n",
              "    .dataframe thead th {\n",
              "        text-align: right;\n",
              "    }\n",
              "</style>\n",
              "<table border=\"1\" class=\"dataframe\">\n",
              "  <thead>\n",
              "    <tr style=\"text-align: right;\">\n",
              "      <th></th>\n",
              "      <th>Pregnancies</th>\n",
              "      <th>Glucose</th>\n",
              "      <th>BloodPressure</th>\n",
              "      <th>SkinThickness</th>\n",
              "      <th>Insulin</th>\n",
              "      <th>BMI</th>\n",
              "      <th>DiabetesPedigreeFunction</th>\n",
              "      <th>Age</th>\n",
              "      <th>Outcome</th>\n",
              "    </tr>\n",
              "  </thead>\n",
              "  <tbody>\n",
              "    <tr>\n",
              "      <th>3</th>\n",
              "      <td>1</td>\n",
              "      <td>89</td>\n",
              "      <td>66</td>\n",
              "      <td>23</td>\n",
              "      <td>94</td>\n",
              "      <td>28.1</td>\n",
              "      <td>0.167</td>\n",
              "      <td>21</td>\n",
              "      <td>0</td>\n",
              "    </tr>\n",
              "    <tr>\n",
              "      <th>6</th>\n",
              "      <td>3</td>\n",
              "      <td>78</td>\n",
              "      <td>50</td>\n",
              "      <td>32</td>\n",
              "      <td>88</td>\n",
              "      <td>31.0</td>\n",
              "      <td>0.248</td>\n",
              "      <td>26</td>\n",
              "      <td>1</td>\n",
              "    </tr>\n",
              "    <tr>\n",
              "      <th>8</th>\n",
              "      <td>2</td>\n",
              "      <td>197</td>\n",
              "      <td>70</td>\n",
              "      <td>45</td>\n",
              "      <td>543</td>\n",
              "      <td>30.5</td>\n",
              "      <td>0.158</td>\n",
              "      <td>53</td>\n",
              "      <td>1</td>\n",
              "    </tr>\n",
              "    <tr>\n",
              "      <th>13</th>\n",
              "      <td>1</td>\n",
              "      <td>189</td>\n",
              "      <td>60</td>\n",
              "      <td>23</td>\n",
              "      <td>846</td>\n",
              "      <td>30.1</td>\n",
              "      <td>0.398</td>\n",
              "      <td>59</td>\n",
              "      <td>1</td>\n",
              "    </tr>\n",
              "    <tr>\n",
              "      <th>14</th>\n",
              "      <td>5</td>\n",
              "      <td>166</td>\n",
              "      <td>72</td>\n",
              "      <td>19</td>\n",
              "      <td>175</td>\n",
              "      <td>25.8</td>\n",
              "      <td>0.587</td>\n",
              "      <td>51</td>\n",
              "      <td>1</td>\n",
              "    </tr>\n",
              "    <tr>\n",
              "      <th>...</th>\n",
              "      <td>...</td>\n",
              "      <td>...</td>\n",
              "      <td>...</td>\n",
              "      <td>...</td>\n",
              "      <td>...</td>\n",
              "      <td>...</td>\n",
              "      <td>...</td>\n",
              "      <td>...</td>\n",
              "      <td>...</td>\n",
              "    </tr>\n",
              "    <tr>\n",
              "      <th>486</th>\n",
              "      <td>1</td>\n",
              "      <td>139</td>\n",
              "      <td>62</td>\n",
              "      <td>41</td>\n",
              "      <td>480</td>\n",
              "      <td>40.7</td>\n",
              "      <td>0.536</td>\n",
              "      <td>21</td>\n",
              "      <td>0</td>\n",
              "    </tr>\n",
              "    <tr>\n",
              "      <th>490</th>\n",
              "      <td>2</td>\n",
              "      <td>83</td>\n",
              "      <td>65</td>\n",
              "      <td>28</td>\n",
              "      <td>66</td>\n",
              "      <td>36.8</td>\n",
              "      <td>0.629</td>\n",
              "      <td>24</td>\n",
              "      <td>0</td>\n",
              "    </tr>\n",
              "    <tr>\n",
              "      <th>493</th>\n",
              "      <td>4</td>\n",
              "      <td>125</td>\n",
              "      <td>70</td>\n",
              "      <td>18</td>\n",
              "      <td>122</td>\n",
              "      <td>28.9</td>\n",
              "      <td>1.144</td>\n",
              "      <td>45</td>\n",
              "      <td>1</td>\n",
              "    </tr>\n",
              "    <tr>\n",
              "      <th>497</th>\n",
              "      <td>2</td>\n",
              "      <td>81</td>\n",
              "      <td>72</td>\n",
              "      <td>15</td>\n",
              "      <td>76</td>\n",
              "      <td>30.1</td>\n",
              "      <td>0.547</td>\n",
              "      <td>25</td>\n",
              "      <td>0</td>\n",
              "    </tr>\n",
              "    <tr>\n",
              "      <th>498</th>\n",
              "      <td>7</td>\n",
              "      <td>195</td>\n",
              "      <td>70</td>\n",
              "      <td>33</td>\n",
              "      <td>145</td>\n",
              "      <td>25.1</td>\n",
              "      <td>0.163</td>\n",
              "      <td>55</td>\n",
              "      <td>1</td>\n",
              "    </tr>\n",
              "  </tbody>\n",
              "</table>\n",
              "<p>215 rows × 9 columns</p>\n",
              "</div>"
            ],
            "text/plain": [
              "     Pregnancies  Glucose  ...  Age  Outcome\n",
              "3              1       89  ...   21        0\n",
              "6              3       78  ...   26        1\n",
              "8              2      197  ...   53        1\n",
              "13             1      189  ...   59        1\n",
              "14             5      166  ...   51        1\n",
              "..           ...      ...  ...  ...      ...\n",
              "486            1      139  ...   21        0\n",
              "490            2       83  ...   24        0\n",
              "493            4      125  ...   45        1\n",
              "497            2       81  ...   25        0\n",
              "498            7      195  ...   55        1\n",
              "\n",
              "[215 rows x 9 columns]"
            ]
          },
          "metadata": {},
          "execution_count": 90
        }
      ]
    },
    {
      "cell_type": "code",
      "metadata": {
        "colab": {
          "base_uri": "https://localhost:8080/"
        },
        "id": "9tRkbX9-d-Qx",
        "outputId": "8a436024-33b7-406c-bb28-1fbc7f597057"
      },
      "source": [
        "novo_df.info()"
      ],
      "execution_count": null,
      "outputs": [
        {
          "output_type": "stream",
          "text": [
            "<class 'pandas.core.frame.DataFrame'>\n",
            "Int64Index: 215 entries, 3 to 498\n",
            "Data columns (total 9 columns):\n",
            " #   Column                    Non-Null Count  Dtype  \n",
            "---  ------                    --------------  -----  \n",
            " 0   Pregnancies               215 non-null    int64  \n",
            " 1   Glucose                   215 non-null    int64  \n",
            " 2   BloodPressure             215 non-null    int64  \n",
            " 3   SkinThickness             215 non-null    int64  \n",
            " 4   Insulin                   215 non-null    int64  \n",
            " 5   BMI                       215 non-null    float64\n",
            " 6   DiabetesPedigreeFunction  215 non-null    float64\n",
            " 7   Age                       215 non-null    int64  \n",
            " 8   Outcome                   215 non-null    int64  \n",
            "dtypes: float64(2), int64(7)\n",
            "memory usage: 16.8 KB\n"
          ],
          "name": "stdout"
        }
      ]
    },
    {
      "cell_type": "code",
      "metadata": {
        "colab": {
          "base_uri": "https://localhost:8080/"
        },
        "id": "YUXAW2fDhq8F",
        "outputId": "d8ada338-4d21-4b77-8ed2-69e6a7f1824d"
      },
      "source": [
        "novo_df.isnull().sum()"
      ],
      "execution_count": null,
      "outputs": [
        {
          "output_type": "execute_result",
          "data": {
            "text/plain": [
              "Pregnancies                 0\n",
              "Glucose                     0\n",
              "BloodPressure               0\n",
              "SkinThickness               0\n",
              "Insulin                     0\n",
              "BMI                         0\n",
              "DiabetesPedigreeFunction    0\n",
              "Age                         0\n",
              "Outcome                     0\n",
              "dtype: int64"
            ]
          },
          "metadata": {},
          "execution_count": 95
        }
      ]
    },
    {
      "cell_type": "code",
      "metadata": {
        "colab": {
          "base_uri": "https://localhost:8080/",
          "height": 328
        },
        "id": "PQWOti0itJ79",
        "outputId": "c3f84c1e-45e2-45aa-f916-0de3dda179f8"
      },
      "source": [
        "corr = novo_df.corr()\n",
        "\n",
        "corr"
      ],
      "execution_count": null,
      "outputs": [
        {
          "output_type": "execute_result",
          "data": {
            "text/html": [
              "<div>\n",
              "<style scoped>\n",
              "    .dataframe tbody tr th:only-of-type {\n",
              "        vertical-align: middle;\n",
              "    }\n",
              "\n",
              "    .dataframe tbody tr th {\n",
              "        vertical-align: top;\n",
              "    }\n",
              "\n",
              "    .dataframe thead th {\n",
              "        text-align: right;\n",
              "    }\n",
              "</style>\n",
              "<table border=\"1\" class=\"dataframe\">\n",
              "  <thead>\n",
              "    <tr style=\"text-align: right;\">\n",
              "      <th></th>\n",
              "      <th>Pregnancies</th>\n",
              "      <th>Glucose</th>\n",
              "      <th>BloodPressure</th>\n",
              "      <th>SkinThickness</th>\n",
              "      <th>Insulin</th>\n",
              "      <th>BMI</th>\n",
              "      <th>DiabetesPedigreeFunction</th>\n",
              "      <th>Age</th>\n",
              "      <th>Outcome</th>\n",
              "    </tr>\n",
              "  </thead>\n",
              "  <tbody>\n",
              "    <tr>\n",
              "      <th>Pregnancies</th>\n",
              "      <td>1.000000</td>\n",
              "      <td>0.264071</td>\n",
              "      <td>0.273760</td>\n",
              "      <td>0.173934</td>\n",
              "      <td>0.070043</td>\n",
              "      <td>0.123534</td>\n",
              "      <td>0.017688</td>\n",
              "      <td>0.659119</td>\n",
              "      <td>0.304856</td>\n",
              "    </tr>\n",
              "    <tr>\n",
              "      <th>Glucose</th>\n",
              "      <td>0.264071</td>\n",
              "      <td>1.000000</td>\n",
              "      <td>0.198213</td>\n",
              "      <td>0.246318</td>\n",
              "      <td>0.627670</td>\n",
              "      <td>0.192210</td>\n",
              "      <td>0.134904</td>\n",
              "      <td>0.373446</td>\n",
              "      <td>0.486381</td>\n",
              "    </tr>\n",
              "    <tr>\n",
              "      <th>BloodPressure</th>\n",
              "      <td>0.273760</td>\n",
              "      <td>0.198213</td>\n",
              "      <td>1.000000</td>\n",
              "      <td>0.133474</td>\n",
              "      <td>0.097910</td>\n",
              "      <td>0.198022</td>\n",
              "      <td>-0.001234</td>\n",
              "      <td>0.305348</td>\n",
              "      <td>0.218269</td>\n",
              "    </tr>\n",
              "    <tr>\n",
              "      <th>SkinThickness</th>\n",
              "      <td>0.173934</td>\n",
              "      <td>0.246318</td>\n",
              "      <td>0.133474</td>\n",
              "      <td>1.000000</td>\n",
              "      <td>0.281103</td>\n",
              "      <td>0.669093</td>\n",
              "      <td>0.109664</td>\n",
              "      <td>0.184245</td>\n",
              "      <td>0.299395</td>\n",
              "    </tr>\n",
              "    <tr>\n",
              "      <th>Insulin</th>\n",
              "      <td>0.070043</td>\n",
              "      <td>0.627670</td>\n",
              "      <td>0.097910</td>\n",
              "      <td>0.281103</td>\n",
              "      <td>1.000000</td>\n",
              "      <td>0.292205</td>\n",
              "      <td>0.243917</td>\n",
              "      <td>0.251909</td>\n",
              "      <td>0.335563</td>\n",
              "    </tr>\n",
              "    <tr>\n",
              "      <th>BMI</th>\n",
              "      <td>0.123534</td>\n",
              "      <td>0.192210</td>\n",
              "      <td>0.198022</td>\n",
              "      <td>0.669093</td>\n",
              "      <td>0.292205</td>\n",
              "      <td>1.000000</td>\n",
              "      <td>0.056411</td>\n",
              "      <td>0.119989</td>\n",
              "      <td>0.288859</td>\n",
              "    </tr>\n",
              "    <tr>\n",
              "      <th>DiabetesPedigreeFunction</th>\n",
              "      <td>0.017688</td>\n",
              "      <td>0.134904</td>\n",
              "      <td>-0.001234</td>\n",
              "      <td>0.109664</td>\n",
              "      <td>0.243917</td>\n",
              "      <td>0.056411</td>\n",
              "      <td>1.000000</td>\n",
              "      <td>0.061528</td>\n",
              "      <td>0.162891</td>\n",
              "    </tr>\n",
              "    <tr>\n",
              "      <th>Age</th>\n",
              "      <td>0.659119</td>\n",
              "      <td>0.373446</td>\n",
              "      <td>0.305348</td>\n",
              "      <td>0.184245</td>\n",
              "      <td>0.251909</td>\n",
              "      <td>0.119989</td>\n",
              "      <td>0.061528</td>\n",
              "      <td>1.000000</td>\n",
              "      <td>0.378664</td>\n",
              "    </tr>\n",
              "    <tr>\n",
              "      <th>Outcome</th>\n",
              "      <td>0.304856</td>\n",
              "      <td>0.486381</td>\n",
              "      <td>0.218269</td>\n",
              "      <td>0.299395</td>\n",
              "      <td>0.335563</td>\n",
              "      <td>0.288859</td>\n",
              "      <td>0.162891</td>\n",
              "      <td>0.378664</td>\n",
              "      <td>1.000000</td>\n",
              "    </tr>\n",
              "  </tbody>\n",
              "</table>\n",
              "</div>"
            ],
            "text/plain": [
              "                          Pregnancies   Glucose  ...       Age   Outcome\n",
              "Pregnancies                  1.000000  0.264071  ...  0.659119  0.304856\n",
              "Glucose                      0.264071  1.000000  ...  0.373446  0.486381\n",
              "BloodPressure                0.273760  0.198213  ...  0.305348  0.218269\n",
              "SkinThickness                0.173934  0.246318  ...  0.184245  0.299395\n",
              "Insulin                      0.070043  0.627670  ...  0.251909  0.335563\n",
              "BMI                          0.123534  0.192210  ...  0.119989  0.288859\n",
              "DiabetesPedigreeFunction     0.017688  0.134904  ...  0.061528  0.162891\n",
              "Age                          0.659119  0.373446  ...  1.000000  0.378664\n",
              "Outcome                      0.304856  0.486381  ...  0.378664  1.000000\n",
              "\n",
              "[9 rows x 9 columns]"
            ]
          },
          "metadata": {},
          "execution_count": 99
        }
      ]
    },
    {
      "cell_type": "code",
      "metadata": {
        "colab": {
          "base_uri": "https://localhost:8080/",
          "height": 1000
        },
        "id": "JkUAPJ8slIO0",
        "outputId": "f962d383-a68b-4aa4-c8aa-bf95c30a6b0a"
      },
      "source": [
        "# Criando um gráfico com as variávis numéricas\n",
        "\n",
        "sns.set(font_scale=1.3,rc={'figure.figsize':(20,20)})\n",
        "eixo = novo_df.hist(bins=20,color='blue')"
      ],
      "execution_count": null,
      "outputs": [
        {
          "output_type": "display_data",
          "data": {
            "image/png": "[encoded data removed]",
            "text/plain": [
              "<Figure size 1440x1440 with 9 Axes>"
            ]
          },
          "metadata": {}
        }
      ]
    },
    {
      "cell_type": "code",
      "metadata": {
        "colab": {
          "base_uri": "https://localhost:8080/",
          "height": 345
        },
        "id": "3r-A7kLXoTP2",
        "outputId": "e6bba306-2aa4-44ec-b3b9-fc8da90182de"
      },
      "source": [
        "plt.figure(figsize=(10,5))\n",
        "sns.scatterplot(data=novo_df,x='Insulin',y='Outcome');"
      ],
      "execution_count": null,
      "outputs": [
        {
          "output_type": "display_data",
          "data": {
            "image/png": "[encoded data removed]",
            "text/plain": [
              "<Figure size 720x360 with 1 Axes>"
            ]
          },
          "metadata": {}
        }
      ]
    },
    {
      "cell_type": "code",
      "metadata": {
        "colab": {
          "base_uri": "https://localhost:8080/"
        },
        "id": "DE-Y8tzZs65z",
        "outputId": "57965a46-1390-465b-abef-027e2700649e"
      },
      "source": [
        "# incluindo apenas as features númericas\n",
        "novo_df.select_dtypes(include=[np.number]).info()"
      ],
      "execution_count": null,
      "outputs": [
        {
          "output_type": "stream",
          "text": [
            "<class 'pandas.core.frame.DataFrame'>\n",
            "Int64Index: 215 entries, 3 to 498\n",
            "Data columns (total 9 columns):\n",
            " #   Column                    Non-Null Count  Dtype  \n",
            "---  ------                    --------------  -----  \n",
            " 0   Pregnancies               215 non-null    int64  \n",
            " 1   Glucose                   215 non-null    int64  \n",
            " 2   BloodPressure             215 non-null    int64  \n",
            " 3   SkinThickness             215 non-null    int64  \n",
            " 4   Insulin                   215 non-null    int64  \n",
            " 5   BMI                       215 non-null    float64\n",
            " 6   DiabetesPedigreeFunction  215 non-null    float64\n",
            " 7   Age                       215 non-null    int64  \n",
            " 8   Outcome                   215 non-null    int64  \n",
            "dtypes: float64(2), int64(7)\n",
            "memory usage: 16.8 KB\n"
          ],
          "name": "stdout"
        }
      ]
    },
    {
      "cell_type": "code",
      "metadata": {
        "id": "jAoAb5h8tr88"
      },
      "source": [
        "novo_df = novo_df.select_dtypes(include=[np.number])\n",
        "novo_df = novo_df.dropna(axis=\"columns\", how=\"any\")\n",
        "\n",
        "X = novo_df.drop(columns=[\"Outcome\"])\n",
        "y = novo_df[\"Outcome\"]\n"
      ],
      "execution_count": null,
      "outputs": []
    },
    {
      "cell_type": "code",
      "metadata": {
        "colab": {
          "base_uri": "https://localhost:8080/",
          "height": 419
        },
        "id": "xBcBiWu9uDy0",
        "outputId": "2237970e-171d-4d48-8a2f-6d04a00b7ea9"
      },
      "source": [
        "X"
      ],
      "execution_count": null,
      "outputs": [
        {
          "output_type": "execute_result",
          "data": {
            "text/html": [
              "<div>\n",
              "<style scoped>\n",
              "    .dataframe tbody tr th:only-of-type {\n",
              "        vertical-align: middle;\n",
              "    }\n",
              "\n",
              "    .dataframe tbody tr th {\n",
              "        vertical-align: top;\n",
              "    }\n",
              "\n",
              "    .dataframe thead th {\n",
              "        text-align: right;\n",
              "    }\n",
              "</style>\n",
              "<table border=\"1\" class=\"dataframe\">\n",
              "  <thead>\n",
              "    <tr style=\"text-align: right;\">\n",
              "      <th></th>\n",
              "      <th>Pregnancies</th>\n",
              "      <th>Glucose</th>\n",
              "      <th>BloodPressure</th>\n",
              "      <th>SkinThickness</th>\n",
              "      <th>Insulin</th>\n",
              "      <th>BMI</th>\n",
              "      <th>DiabetesPedigreeFunction</th>\n",
              "      <th>Age</th>\n",
              "    </tr>\n",
              "  </thead>\n",
              "  <tbody>\n",
              "    <tr>\n",
              "      <th>3</th>\n",
              "      <td>1</td>\n",
              "      <td>89</td>\n",
              "      <td>66</td>\n",
              "      <td>23</td>\n",
              "      <td>94</td>\n",
              "      <td>28.1</td>\n",
              "      <td>0.167</td>\n",
              "      <td>21</td>\n",
              "    </tr>\n",
              "    <tr>\n",
              "      <th>6</th>\n",
              "      <td>3</td>\n",
              "      <td>78</td>\n",
              "      <td>50</td>\n",
              "      <td>32</td>\n",
              "      <td>88</td>\n",
              "      <td>31.0</td>\n",
              "      <td>0.248</td>\n",
              "      <td>26</td>\n",
              "    </tr>\n",
              "    <tr>\n",
              "      <th>8</th>\n",
              "      <td>2</td>\n",
              "      <td>197</td>\n",
              "      <td>70</td>\n",
              "      <td>45</td>\n",
              "      <td>543</td>\n",
              "      <td>30.5</td>\n",
              "      <td>0.158</td>\n",
              "      <td>53</td>\n",
              "    </tr>\n",
              "    <tr>\n",
              "      <th>13</th>\n",
              "      <td>1</td>\n",
              "      <td>189</td>\n",
              "      <td>60</td>\n",
              "      <td>23</td>\n",
              "      <td>846</td>\n",
              "      <td>30.1</td>\n",
              "      <td>0.398</td>\n",
              "      <td>59</td>\n",
              "    </tr>\n",
              "    <tr>\n",
              "      <th>14</th>\n",
              "      <td>5</td>\n",
              "      <td>166</td>\n",
              "      <td>72</td>\n",
              "      <td>19</td>\n",
              "      <td>175</td>\n",
              "      <td>25.8</td>\n",
              "      <td>0.587</td>\n",
              "      <td>51</td>\n",
              "    </tr>\n",
              "    <tr>\n",
              "      <th>...</th>\n",
              "      <td>...</td>\n",
              "      <td>...</td>\n",
              "      <td>...</td>\n",
              "      <td>...</td>\n",
              "      <td>...</td>\n",
              "      <td>...</td>\n",
              "      <td>...</td>\n",
              "      <td>...</td>\n",
              "    </tr>\n",
              "    <tr>\n",
              "      <th>486</th>\n",
              "      <td>1</td>\n",
              "      <td>139</td>\n",
              "      <td>62</td>\n",
              "      <td>41</td>\n",
              "      <td>480</td>\n",
              "      <td>40.7</td>\n",
              "      <td>0.536</td>\n",
              "      <td>21</td>\n",
              "    </tr>\n",
              "    <tr>\n",
              "      <th>490</th>\n",
              "      <td>2</td>\n",
              "      <td>83</td>\n",
              "      <td>65</td>\n",
              "      <td>28</td>\n",
              "      <td>66</td>\n",
              "      <td>36.8</td>\n",
              "      <td>0.629</td>\n",
              "      <td>24</td>\n",
              "    </tr>\n",
              "    <tr>\n",
              "      <th>493</th>\n",
              "      <td>4</td>\n",
              "      <td>125</td>\n",
              "      <td>70</td>\n",
              "      <td>18</td>\n",
              "      <td>122</td>\n",
              "      <td>28.9</td>\n",
              "      <td>1.144</td>\n",
              "      <td>45</td>\n",
              "    </tr>\n",
              "    <tr>\n",
              "      <th>497</th>\n",
              "      <td>2</td>\n",
              "      <td>81</td>\n",
              "      <td>72</td>\n",
              "      <td>15</td>\n",
              "      <td>76</td>\n",
              "      <td>30.1</td>\n",
              "      <td>0.547</td>\n",
              "      <td>25</td>\n",
              "    </tr>\n",
              "    <tr>\n",
              "      <th>498</th>\n",
              "      <td>7</td>\n",
              "      <td>195</td>\n",
              "      <td>70</td>\n",
              "      <td>33</td>\n",
              "      <td>145</td>\n",
              "      <td>25.1</td>\n",
              "      <td>0.163</td>\n",
              "      <td>55</td>\n",
              "    </tr>\n",
              "  </tbody>\n",
              "</table>\n",
              "<p>215 rows × 8 columns</p>\n",
              "</div>"
            ],
            "text/plain": [
              "     Pregnancies  Glucose  BloodPressure  ...   BMI  DiabetesPedigreeFunction  Age\n",
              "3              1       89             66  ...  28.1                     0.167   21\n",
              "6              3       78             50  ...  31.0                     0.248   26\n",
              "8              2      197             70  ...  30.5                     0.158   53\n",
              "13             1      189             60  ...  30.1                     0.398   59\n",
              "14             5      166             72  ...  25.8                     0.587   51\n",
              "..           ...      ...            ...  ...   ...                       ...  ...\n",
              "486            1      139             62  ...  40.7                     0.536   21\n",
              "490            2       83             65  ...  36.8                     0.629   24\n",
              "493            4      125             70  ...  28.9                     1.144   45\n",
              "497            2       81             72  ...  30.1                     0.547   25\n",
              "498            7      195             70  ...  25.1                     0.163   55\n",
              "\n",
              "[215 rows x 8 columns]"
            ]
          },
          "metadata": {},
          "execution_count": 102
        }
      ]
    },
    {
      "cell_type": "code",
      "metadata": {
        "colab": {
          "base_uri": "https://localhost:8080/"
        },
        "id": "h7HhlzlguFyL",
        "outputId": "7a67a594-40a3-474a-9f10-4ae980691441"
      },
      "source": [
        "y"
      ],
      "execution_count": null,
      "outputs": [
        {
          "output_type": "execute_result",
          "data": {
            "text/plain": [
              "3      0\n",
              "6      1\n",
              "8      1\n",
              "13     1\n",
              "14     1\n",
              "      ..\n",
              "486    0\n",
              "490    0\n",
              "493    1\n",
              "497    0\n",
              "498    1\n",
              "Name: Outcome, Length: 215, dtype: int64"
            ]
          },
          "metadata": {},
          "execution_count": 103
        }
      ]
    },
    {
      "cell_type": "code",
      "metadata": {
        "id": "dU8nO2BhuWsn"
      },
      "source": [
        "from sklearn.model_selection import train_test_split\n",
        "x_treino, x_teste, y_treino, y_teste = train_test_split(\n",
        "    X,\n",
        "    y, test_size=0.20\n",
        ")"
      ],
      "execution_count": null,
      "outputs": []
    },
    {
      "cell_type": "code",
      "metadata": {
        "colab": {
          "base_uri": "https://localhost:8080/"
        },
        "id": "EIMqyYcwucwk",
        "outputId": "eb121906-b59a-4fbd-cc95-a98a186450f4"
      },
      "source": [
        "from sklearn.linear_model import LogisticRegression\n",
        "\n",
        "Funcao_logistica = LogisticRegression()\n",
        "\n",
        "Funcao_logistica.fit(x_treino,y_treino)"
      ],
      "execution_count": null,
      "outputs": [
        {
          "output_type": "stream",
          "text": [
            "/usr/local/lib/python3.7/dist-packages/sklearn/linear_model/_logistic.py:940: ConvergenceWarning: lbfgs failed to converge (status=1):\n",
            "STOP: TOTAL NO. of ITERATIONS REACHED LIMIT.\n",
            "\n",
            "Increase the number of iterations (max_iter) or scale the data as shown in:\n",
            "    https://scikit-learn.org/stable/modules/preprocessing.html\n",
            "Please also refer to the documentation for alternative solver options:\n",
            "    https://scikit-learn.org/stable/modules/linear_model.html#logistic-regression\n",
            "  extra_warning_msg=_LOGISTIC_SOLVER_CONVERGENCE_MSG)\n"
          ],
          "name": "stderr"
        },
        {
          "output_type": "execute_result",
          "data": {
            "text/plain": [
              "LogisticRegression(C=1.0, class_weight=None, dual=False, fit_intercept=True,\n",
              "                   intercept_scaling=1, l1_ratio=None, max_iter=100,\n",
              "                   multi_class='auto', n_jobs=None, penalty='l2',\n",
              "                   random_state=None, solver='lbfgs', tol=0.0001, verbose=0,\n",
              "                   warm_start=False)"
            ]
          },
          "metadata": {},
          "execution_count": 105
        }
      ]
    },
    {
      "cell_type": "code",
      "metadata": {
        "id": "sH2jGL4Bujol"
      },
      "source": [
        "# Avaliando o modelo\n",
        "previsoes = Funcao_logistica.predict(x_teste)"
      ],
      "execution_count": null,
      "outputs": []
    },
    {
      "cell_type": "code",
      "metadata": {
        "colab": {
          "base_uri": "https://localhost:8080/"
        },
        "id": "ZdI8lIdgusYb",
        "outputId": "06745830-9889-4264-c893-f7007cde3c14"
      },
      "source": [
        "previsoes"
      ],
      "execution_count": null,
      "outputs": [
        {
          "output_type": "execute_result",
          "data": {
            "text/plain": [
              "array([0, 0, 0, 1, 0, 0, 0, 0, 0, 0, 0, 0, 0, 1, 0, 0, 0, 1, 0, 0, 0, 1,\n",
              "       1, 0, 0, 0, 0, 1, 0, 0, 0, 0, 0, 1, 0, 1, 0, 1, 1, 1, 0, 0, 0])"
            ]
          },
          "metadata": {},
          "execution_count": 107
        }
      ]
    },
    {
      "cell_type": "code",
      "metadata": {
        "colab": {
          "base_uri": "https://localhost:8080/"
        },
        "id": "C3kt9NV2uycD",
        "outputId": "c5ce39ae-a548-4b84-d816-bb13cf1ae82a"
      },
      "source": [
        "# comparando os modelo\n",
        "y_teste"
      ],
      "execution_count": null,
      "outputs": [
        {
          "output_type": "execute_result",
          "data": {
            "text/plain": [
              "217    0\n",
              "454    0\n",
              "313    0\n",
              "469    0\n",
              "476    1\n",
              "396    0\n",
              "165    1\n",
              "51     0\n",
              "161    0\n",
              "374    0\n",
              "203    0\n",
              "125    1\n",
              "198    1\n",
              "31     1\n",
              "298    1\n",
              "282    0\n",
              "134    0\n",
              "259    1\n",
              "312    1\n",
              "241    0\n",
              "392    0\n",
              "338    1\n",
              "195    1\n",
              "69     0\n",
              "301    1\n",
              "432    0\n",
              "368    0\n",
              "186    1\n",
              "234    0\n",
              "173    0\n",
              "174    0\n",
              "393    0\n",
              "20     0\n",
              "13     1\n",
              "191    0\n",
              "14     1\n",
              "91     0\n",
              "244    0\n",
              "287    1\n",
              "43     1\n",
              "441    0\n",
              "214    1\n",
              "6      1\n",
              "Name: Outcome, dtype: int64"
            ]
          },
          "metadata": {},
          "execution_count": 108
        }
      ]
    },
    {
      "cell_type": "code",
      "metadata": {
        "colab": {
          "base_uri": "https://localhost:8080/"
        },
        "id": "OFgxIfE-u5y9",
        "outputId": "c31f33c2-4cd6-4231-a81b-2b3bce5da97e"
      },
      "source": [
        "from sklearn.metrics import confusion_matrix\n",
        "confusion_matrix(y_teste,previsoes)"
      ],
      "execution_count": null,
      "outputs": [
        {
          "output_type": "execute_result",
          "data": {
            "text/plain": [
              "array([[23,  2],\n",
              "       [ 9,  9]])"
            ]
          },
          "metadata": {},
          "execution_count": 109
        }
      ]
    },
    {
      "cell_type": "markdown",
      "metadata": {
        "id": "K78Qq1EvNrAZ"
      },
      "source": [
        "#O que são matrizes de confusão?\n",
        "É um tabela que mostra as frequências de classificação para cada classe do modelo. Pegando o exemplo acima, ela vai nos mostrar as frequências:\n",
        "###**Verdadeiro positivo**(true positive — TP): ocorre quando no conjunto real, a classe que estamos buscando foi prevista corretamente. Por exemplo, quando a mulher está grávida e o modelo previu corretamente que ela está grávida.\n",
        "###**Falso positivo** (false positive — FP): ocorre quando no conjunto real, a classe que estamos buscando prever foi prevista incorretamente. Exemplo: a mulher não está grávida, mas o modelo disse que ela está.\n",
        "###**Falso verdadeiro** (true negative — TN): ocorre quando no conjunto real, a classe que não estamos buscando prever foi prevista corretamente. Exemplo: a mulher não estava grávida, e o modelo previu corretamente que ela não está.\n",
        "###**Falso negativo** (false negative — FN): ocorre quando no conjunto real, a classe que não estamos buscando prever foi prevista incorretamente. Por exemplo, quando a mulher está grávida e o modelo previu incorretamente que ela não está grávida.\n"
      ]
    },
    {
      "cell_type": "code",
      "metadata": {
        "colab": {
          "base_uri": "https://localhost:8080/"
        },
        "id": "Ks6ncLuUvBWP",
        "outputId": "0b0481f7-1a98-42f2-e7eb-f96ab6d1023a"
      },
      "source": [
        "from sklearn.metrics import classification_report\n",
        "print(classification_report(y_teste,previsoes))\n"
      ],
      "execution_count": null,
      "outputs": [
        {
          "output_type": "stream",
          "text": [
            "              precision    recall  f1-score   support\n",
            "\n",
            "           0       0.72      0.92      0.81        25\n",
            "           1       0.82      0.50      0.62        18\n",
            "\n",
            "    accuracy                           0.74        43\n",
            "   macro avg       0.77      0.71      0.71        43\n",
            "weighted avg       0.76      0.74      0.73        43\n",
            "\n"
          ],
          "name": "stdout"
        }
      ]
    },
    {
      "cell_type": "markdown",
      "metadata": {
        "id": "7SeAmYiSLstK"
      },
      "source": [
        "# interpretando os resultados\n",
        "#**Recall**\n",
        "Qual proporção de positivos foi identificados corretamente? Em outras palavras, quão bom meu modelo é para prever positivos, sendo positivo entendido como a classe que se quer prever, no nosso contexto, se a mulher está grávida. É definido como a razão entre verdadeiros positivos sobre a soma de verdadeiros positivos com negativos falsos.\n",
        "\n",
        "#**Precisão**\n",
        "eles definem precisão como a resposta para a seguinte pergunta: Qual a proporção de identificações positivas foi realmente correta? Em outras palavras, o qual bem meu modelo trabalhou.\n",
        "\n",
        "#**f-score** \n",
        "Nos mostra o balanço entre a precisão e o recall de nosso modelo.\n",
        "\n"
      ]
    },
    {
      "cell_type": "code",
      "metadata": {
        "id": "9HC7y0eDvMr0"
      },
      "source": [
        "# Novo dado!!!\n",
        "\n",
        "Pregnancies = 1\n",
        "Glucose = 200\n",
        "BloodPressure = 80\n",
        "SkinThickness = 30\n",
        "Insulin = 98\n",
        "BMI = 28.1\n",
        "DiabetesPedigreeFunction = 0.230\n",
        "Age = 40\n",
        "\n",
        "\n"
      ],
      "execution_count": null,
      "outputs": []
    },
    {
      "cell_type": "code",
      "metadata": {
        "colab": {
          "base_uri": "https://localhost:8080/"
        },
        "id": "NJQ7XJDHvugl",
        "outputId": "30488f4c-4f7c-40c4-b12e-0d29e33d9c69"
      },
      "source": [
        "parametro = [[Pregnancies, Glucose, BloodPressure, SkinThickness, Insulin,\n",
        "       BMI, DiabetesPedigreeFunction, Age]]\n",
        "\n",
        "fazendo_previsoes = Funcao_logistica.predict(parametro)\n",
        "\n",
        "probabilidade = Funcao_logistica.predict_proba(parametro)\n",
        "\n",
        "\n",
        "if fazendo_previsoes==0:\n",
        "  print('Não possui Diabetes')\n",
        "  print(probabilidade)\n",
        "else: \n",
        "  print('Possui Diabetes')\n",
        "  print(probabilidade)"
      ],
      "execution_count": null,
      "outputs": [
        {
          "output_type": "stream",
          "text": [
            "Possui Diabetes\n",
            "[[0.14674543 0.85325457]]\n"
          ],
          "name": "stdout"
        }
      ]
    }
  ]
}